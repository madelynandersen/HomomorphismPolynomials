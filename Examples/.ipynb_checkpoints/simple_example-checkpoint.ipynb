{
 "cells": [
  {
   "cell_type": "code",
   "execution_count": 1,
   "id": "e2714bca",
   "metadata": {},
   "outputs": [],
   "source": [
    "# Author: Madelyn Andersen\n",
    "# Summer Research with Professor Heather for Giovanni Borrelli Fellowship 2021\n",
    "# Some functions to generate polynomials for quantum graphs"
   ]
  },
  {
   "cell_type": "markdown",
   "id": "c9d74ca7",
   "metadata": {},
   "source": [
    "# Imports\n"
   ]
  },
  {
   "cell_type": "code",
   "execution_count": 2,
   "id": "3de50658",
   "metadata": {},
   "outputs": [],
   "source": [
    "import numpy as np\n",
    "from IPython.display import Latex\n",
    "\n",
    "import HomPolys"
   ]
  },
  {
   "cell_type": "markdown",
   "id": "35250a3f",
   "metadata": {},
   "source": [
    " ## Example 1: A K3 graph\n",
    " A K3 graph is a complete graph on three nodes with three edges."
   ]
  },
  {
   "cell_type": "markdown",
   "id": "c2afc250",
   "metadata": {},
   "source": [
    "First, we compute the edge list for a K3 graph. We expect the output to have three edges."
   ]
  },
  {
   "cell_type": "code",
   "execution_count": 3,
   "id": "0fdbcbd5",
   "metadata": {},
   "outputs": [
    {
     "data": {
      "text/plain": [
       "(3, [(0, 1), (0, 2), (1, 2)])"
      ]
     },
     "execution_count": 3,
     "metadata": {},
     "output_type": "execute_result"
    }
   ],
   "source": [
    "K3_edges = HomPolys.create_graph_edges(\"K3\")\n",
    "K3_edges"
   ]
  },
  {
   "cell_type": "markdown",
   "id": "6706b211",
   "metadata": {},
   "source": [
    "We now compute the polynomial representation of the homomorphism number of a K3 graph using a $q$ value of 4, 5, and 6."
   ]
  },
  {
   "cell_type": "code",
   "execution_count": 4,
   "id": "15683e8b",
   "metadata": {},
   "outputs": [],
   "source": [
    "# q = 4\n",
    "poly_4 = HomPolys.Polynomial(4)\n",
    "\n",
    "# q = 5\n",
    "poly_5 = HomPolys.Polynomial(5)\n",
    "\n",
    "# q = 6\n",
    "poly_6 = HomPolys.Polynomial(6)"
   ]
  },
  {
   "cell_type": "markdown",
   "id": "94bad7c5",
   "metadata": {},
   "source": [
    "For each initialized polynomial, we use the `add_monomial_from_edge_list` function to add our `K3_edges` from earlier."
   ]
  },
  {
   "cell_type": "code",
   "execution_count": 5,
   "id": "b6ea06c4",
   "metadata": {},
   "outputs": [
    {
     "name": "stderr",
     "output_type": "stream",
     "text": [
      "100%|██████████| 64/64 [00:00<00:00, 55450.41it/s]\n",
      "100%|██████████| 64/64 [00:00<00:00, 51652.00it/s]\n",
      "100%|██████████| 125/125 [00:00<00:00, 25207.37it/s]\n",
      "100%|██████████| 125/125 [00:00<00:00, 42332.50it/s]\n",
      "100%|██████████| 216/216 [00:00<00:00, 8442.07it/s]\n",
      "100%|██████████| 216/216 [00:00<00:00, 76562.97it/s]\n"
     ]
    },
    {
     "data": {
      "text/plain": [
       "<HomPolys.core.Polynomial at 0x7facf317bbb0>"
      ]
     },
     "execution_count": 5,
     "metadata": {},
     "output_type": "execute_result"
    }
   ],
   "source": [
    "poly_4.add_monomial_from_edge_list(*K3_edges)\n",
    "poly_5.add_monomial_from_edge_list(*K3_edges)\n",
    "poly_6.add_monomial_from_edge_list(*K3_edges)"
   ]
  },
  {
   "cell_type": "markdown",
   "id": "12a2e3d9",
   "metadata": {},
   "source": [
    "Note that using `add_monomial_from_graph_string` circumvents the entire process, as so:"
   ]
  },
  {
   "cell_type": "code",
   "execution_count": 6,
   "id": "96c70215",
   "metadata": {},
   "outputs": [
    {
     "name": "stderr",
     "output_type": "stream",
     "text": [
      "100%|██████████| 64/64 [00:00<00:00, 5047.68it/s]\n",
      "100%|██████████| 64/64 [00:00<00:00, 5563.66it/s]\n",
      "100%|██████████| 125/125 [00:00<00:00, 19054.62it/s]\n",
      "100%|██████████| 125/125 [00:00<00:00, 24193.07it/s]\n",
      "100%|██████████| 216/216 [00:00<00:00, 4216.03it/s]\n",
      "100%|██████████| 216/216 [00:00<00:00, 4343.10it/s]\n"
     ]
    },
    {
     "data": {
      "text/plain": [
       "<HomPolys.core.Polynomial at 0x7facf32076d0>"
      ]
     },
     "execution_count": 6,
     "metadata": {},
     "output_type": "execute_result"
    }
   ],
   "source": [
    "# q = 4\n",
    "poly_4_quick = HomPolys.Polynomial(4)\n",
    "poly_4_quick.add_monomial_from_graph_string(\"K3\")\n",
    "\n",
    "# q = 5\n",
    "poly_5_quick = HomPolys.Polynomial(5)\n",
    "poly_5_quick.add_monomial_from_graph_string(\"K3\")\n",
    "\n",
    "# q = 6\n",
    "poly_6_quick = HomPolys.Polynomial(6)\n",
    "poly_6_quick.add_monomial_from_graph_string(\"K3\")"
   ]
  },
  {
   "cell_type": "markdown",
   "id": "c7133deb",
   "metadata": {},
   "source": [
    "We can now view the output of the Polynomials using the `tex` function. Note that `poly_n_quick` is the same as `poly_n` for all values of $n$."
   ]
  },
  {
   "cell_type": "code",
   "execution_count": 7,
   "id": "e40bc02c",
   "metadata": {},
   "outputs": [
    {
     "data": {
      "text/latex": [
       "$x_{0}^{3} + (3)x_{0}^{1}x_{1}^{2} + (3)x_{0}^{1}x_{2}^{2} + (3)x_{0}^{1}x_{3}^{2} + (3)x_{1}^{2}x_{5}^{1} + (6)x_{1}^{1}x_{2}^{1}x_{6}^{1} + (6)x_{1}^{1}x_{3}^{1}x_{7}^{1} + (3)x_{2}^{2}x_{10}^{1} + (6)x_{2}^{1}x_{3}^{1}x_{11}^{1} + (3)x_{3}^{2}x_{15}^{1} + x_{5}^{3} + (3)x_{5}^{1}x_{6}^{2} + (3)x_{5}^{1}x_{7}^{2} + (3)x_{6}^{2}x_{10}^{1} + (6)x_{6}^{1}x_{7}^{1}x_{11}^{1} + (3)x_{7}^{2}x_{15}^{1} + x_{10}^{3} + (3)x_{10}^{1}x_{11}^{2} + (3)x_{11}^{2}x_{15}^{1} + x_{15}^{3}$"
      ],
      "text/plain": [
       "<IPython.core.display.Latex object>"
      ]
     },
     "execution_count": 7,
     "metadata": {},
     "output_type": "execute_result"
    }
   ],
   "source": [
    "poly_4.tex()"
   ]
  },
  {
   "cell_type": "code",
   "execution_count": 8,
   "id": "8bc788a6",
   "metadata": {},
   "outputs": [
    {
     "data": {
      "text/latex": [
       "$x_{0}^{3} + (3)x_{0}^{1}x_{1}^{2} + (3)x_{0}^{1}x_{2}^{2} + (3)x_{0}^{1}x_{3}^{2} + (3)x_{1}^{2}x_{5}^{1} + (6)x_{1}^{1}x_{2}^{1}x_{6}^{1} + (6)x_{1}^{1}x_{3}^{1}x_{7}^{1} + (3)x_{2}^{2}x_{10}^{1} + (6)x_{2}^{1}x_{3}^{1}x_{11}^{1} + (3)x_{3}^{2}x_{15}^{1} + x_{5}^{3} + (3)x_{5}^{1}x_{6}^{2} + (3)x_{5}^{1}x_{7}^{2} + (3)x_{6}^{2}x_{10}^{1} + (6)x_{6}^{1}x_{7}^{1}x_{11}^{1} + (3)x_{7}^{2}x_{15}^{1} + x_{10}^{3} + (3)x_{10}^{1}x_{11}^{2} + (3)x_{11}^{2}x_{15}^{1} + x_{15}^{3}$"
      ],
      "text/plain": [
       "<IPython.core.display.Latex object>"
      ]
     },
     "execution_count": 8,
     "metadata": {},
     "output_type": "execute_result"
    }
   ],
   "source": [
    "poly_4_quick.tex()"
   ]
  },
  {
   "cell_type": "code",
   "execution_count": 9,
   "id": "d64d09d4",
   "metadata": {},
   "outputs": [
    {
     "data": {
      "text/latex": [
       "$x_{0}^{3} + (3)x_{0}^{1}x_{1}^{2} + (3)x_{0}^{1}x_{2}^{2} + (3)x_{0}^{1}x_{3}^{2} + (3)x_{0}^{1}x_{4}^{2} + (3)x_{1}^{2}x_{6}^{1} + (6)x_{1}^{1}x_{2}^{1}x_{7}^{1} + (6)x_{1}^{1}x_{3}^{1}x_{8}^{1} + (6)x_{1}^{1}x_{4}^{1}x_{9}^{1} + (3)x_{2}^{2}x_{12}^{1} + (6)x_{2}^{1}x_{3}^{1}x_{13}^{1} + (6)x_{2}^{1}x_{4}^{1}x_{14}^{1} + (3)x_{3}^{2}x_{18}^{1} + (6)x_{3}^{1}x_{4}^{1}x_{19}^{1} + (3)x_{4}^{2}x_{24}^{1} + x_{6}^{3} + (3)x_{6}^{1}x_{7}^{2} + (3)x_{6}^{1}x_{8}^{2} + (3)x_{6}^{1}x_{9}^{2} + (3)x_{7}^{2}x_{12}^{1} + (6)x_{7}^{1}x_{8}^{1}x_{13}^{1} + (6)x_{7}^{1}x_{9}^{1}x_{14}^{1} + (3)x_{8}^{2}x_{18}^{1} + (6)x_{8}^{1}x_{9}^{1}x_{19}^{1} + (3)x_{9}^{2}x_{24}^{1} + x_{12}^{3} + (3)x_{12}^{1}x_{13}^{2} + (3)x_{12}^{1}x_{14}^{2} + (3)x_{13}^{2}x_{18}^{1} + (6)x_{13}^{1}x_{14}^{1}x_{19}^{1} + (3)x_{14}^{2}x_{24}^{1} + x_{18}^{3} + (3)x_{18}^{1}x_{19}^{2} + (3)x_{19}^{2}x_{24}^{1} + x_{24}^{3}$"
      ],
      "text/plain": [
       "<IPython.core.display.Latex object>"
      ]
     },
     "execution_count": 9,
     "metadata": {},
     "output_type": "execute_result"
    }
   ],
   "source": [
    "poly_5.tex()"
   ]
  },
  {
   "cell_type": "code",
   "execution_count": 10,
   "id": "c007e754",
   "metadata": {},
   "outputs": [
    {
     "data": {
      "text/latex": [
       "$x_{0}^{3} + (3)x_{0}^{1}x_{1}^{2} + (3)x_{0}^{1}x_{2}^{2} + (3)x_{0}^{1}x_{3}^{2} + (3)x_{0}^{1}x_{4}^{2} + (3)x_{1}^{2}x_{6}^{1} + (6)x_{1}^{1}x_{2}^{1}x_{7}^{1} + (6)x_{1}^{1}x_{3}^{1}x_{8}^{1} + (6)x_{1}^{1}x_{4}^{1}x_{9}^{1} + (3)x_{2}^{2}x_{12}^{1} + (6)x_{2}^{1}x_{3}^{1}x_{13}^{1} + (6)x_{2}^{1}x_{4}^{1}x_{14}^{1} + (3)x_{3}^{2}x_{18}^{1} + (6)x_{3}^{1}x_{4}^{1}x_{19}^{1} + (3)x_{4}^{2}x_{24}^{1} + x_{6}^{3} + (3)x_{6}^{1}x_{7}^{2} + (3)x_{6}^{1}x_{8}^{2} + (3)x_{6}^{1}x_{9}^{2} + (3)x_{7}^{2}x_{12}^{1} + (6)x_{7}^{1}x_{8}^{1}x_{13}^{1} + (6)x_{7}^{1}x_{9}^{1}x_{14}^{1} + (3)x_{8}^{2}x_{18}^{1} + (6)x_{8}^{1}x_{9}^{1}x_{19}^{1} + (3)x_{9}^{2}x_{24}^{1} + x_{12}^{3} + (3)x_{12}^{1}x_{13}^{2} + (3)x_{12}^{1}x_{14}^{2} + (3)x_{13}^{2}x_{18}^{1} + (6)x_{13}^{1}x_{14}^{1}x_{19}^{1} + (3)x_{14}^{2}x_{24}^{1} + x_{18}^{3} + (3)x_{18}^{1}x_{19}^{2} + (3)x_{19}^{2}x_{24}^{1} + x_{24}^{3}$"
      ],
      "text/plain": [
       "<IPython.core.display.Latex object>"
      ]
     },
     "execution_count": 10,
     "metadata": {},
     "output_type": "execute_result"
    }
   ],
   "source": [
    "poly_5_quick.tex()"
   ]
  },
  {
   "cell_type": "code",
   "execution_count": 11,
   "id": "fe7f5994",
   "metadata": {},
   "outputs": [
    {
     "data": {
      "text/latex": [
       "$x_{0}^{3} + (3)x_{0}^{1}x_{1}^{2} + (3)x_{0}^{1}x_{2}^{2} + (3)x_{0}^{1}x_{3}^{2} + (3)x_{0}^{1}x_{4}^{2} + (3)x_{0}^{1}x_{5}^{2} + (3)x_{1}^{2}x_{7}^{1} + (6)x_{1}^{1}x_{2}^{1}x_{8}^{1} + (6)x_{1}^{1}x_{3}^{1}x_{9}^{1} + (6)x_{1}^{1}x_{4}^{1}x_{10}^{1} + (6)x_{1}^{1}x_{5}^{1}x_{11}^{1} + (3)x_{2}^{2}x_{14}^{1} + (6)x_{2}^{1}x_{3}^{1}x_{15}^{1} + (6)x_{2}^{1}x_{4}^{1}x_{16}^{1} + (6)x_{2}^{1}x_{5}^{1}x_{17}^{1} + (3)x_{3}^{2}x_{21}^{1} + (6)x_{3}^{1}x_{4}^{1}x_{22}^{1} + (6)x_{3}^{1}x_{5}^{1}x_{23}^{1} + (3)x_{4}^{2}x_{28}^{1} + (6)x_{4}^{1}x_{5}^{1}x_{29}^{1} + (3)x_{5}^{2}x_{35}^{1} + x_{7}^{3} + (3)x_{7}^{1}x_{8}^{2} + (3)x_{7}^{1}x_{9}^{2} + (3)x_{7}^{1}x_{10}^{2} + (3)x_{7}^{1}x_{11}^{2} + (3)x_{8}^{2}x_{14}^{1} + (6)x_{8}^{1}x_{9}^{1}x_{15}^{1} + (6)x_{8}^{1}x_{10}^{1}x_{16}^{1} + (6)x_{8}^{1}x_{11}^{1}x_{17}^{1} + (3)x_{9}^{2}x_{21}^{1} + (6)x_{9}^{1}x_{10}^{1}x_{22}^{1} + (6)x_{9}^{1}x_{11}^{1}x_{23}^{1} + (3)x_{10}^{2}x_{28}^{1} + (6)x_{10}^{1}x_{11}^{1}x_{29}^{1} + (3)x_{11}^{2}x_{35}^{1} + x_{14}^{3} + (3)x_{14}^{1}x_{15}^{2} + (3)x_{14}^{1}x_{16}^{2} + (3)x_{14}^{1}x_{17}^{2} + (3)x_{15}^{2}x_{21}^{1} + (6)x_{15}^{1}x_{16}^{1}x_{22}^{1} + (6)x_{15}^{1}x_{17}^{1}x_{23}^{1} + (3)x_{16}^{2}x_{28}^{1} + (6)x_{16}^{1}x_{17}^{1}x_{29}^{1} + (3)x_{17}^{2}x_{35}^{1} + x_{21}^{3} + (3)x_{21}^{1}x_{22}^{2} + (3)x_{21}^{1}x_{23}^{2} + (3)x_{22}^{2}x_{28}^{1} + (6)x_{22}^{1}x_{23}^{1}x_{29}^{1} + (3)x_{23}^{2}x_{35}^{1} + x_{28}^{3} + (3)x_{28}^{1}x_{29}^{2} + (3)x_{29}^{2}x_{35}^{1} + x_{35}^{3}$"
      ],
      "text/plain": [
       "<IPython.core.display.Latex object>"
      ]
     },
     "execution_count": 11,
     "metadata": {},
     "output_type": "execute_result"
    }
   ],
   "source": [
    "poly_6.tex()"
   ]
  },
  {
   "cell_type": "code",
   "execution_count": 12,
   "id": "c2bc35eb",
   "metadata": {},
   "outputs": [
    {
     "data": {
      "text/latex": [
       "$x_{0}^{3} + (3)x_{0}^{1}x_{1}^{2} + (3)x_{0}^{1}x_{2}^{2} + (3)x_{0}^{1}x_{3}^{2} + (3)x_{0}^{1}x_{4}^{2} + (3)x_{0}^{1}x_{5}^{2} + (3)x_{1}^{2}x_{7}^{1} + (6)x_{1}^{1}x_{2}^{1}x_{8}^{1} + (6)x_{1}^{1}x_{3}^{1}x_{9}^{1} + (6)x_{1}^{1}x_{4}^{1}x_{10}^{1} + (6)x_{1}^{1}x_{5}^{1}x_{11}^{1} + (3)x_{2}^{2}x_{14}^{1} + (6)x_{2}^{1}x_{3}^{1}x_{15}^{1} + (6)x_{2}^{1}x_{4}^{1}x_{16}^{1} + (6)x_{2}^{1}x_{5}^{1}x_{17}^{1} + (3)x_{3}^{2}x_{21}^{1} + (6)x_{3}^{1}x_{4}^{1}x_{22}^{1} + (6)x_{3}^{1}x_{5}^{1}x_{23}^{1} + (3)x_{4}^{2}x_{28}^{1} + (6)x_{4}^{1}x_{5}^{1}x_{29}^{1} + (3)x_{5}^{2}x_{35}^{1} + x_{7}^{3} + (3)x_{7}^{1}x_{8}^{2} + (3)x_{7}^{1}x_{9}^{2} + (3)x_{7}^{1}x_{10}^{2} + (3)x_{7}^{1}x_{11}^{2} + (3)x_{8}^{2}x_{14}^{1} + (6)x_{8}^{1}x_{9}^{1}x_{15}^{1} + (6)x_{8}^{1}x_{10}^{1}x_{16}^{1} + (6)x_{8}^{1}x_{11}^{1}x_{17}^{1} + (3)x_{9}^{2}x_{21}^{1} + (6)x_{9}^{1}x_{10}^{1}x_{22}^{1} + (6)x_{9}^{1}x_{11}^{1}x_{23}^{1} + (3)x_{10}^{2}x_{28}^{1} + (6)x_{10}^{1}x_{11}^{1}x_{29}^{1} + (3)x_{11}^{2}x_{35}^{1} + x_{14}^{3} + (3)x_{14}^{1}x_{15}^{2} + (3)x_{14}^{1}x_{16}^{2} + (3)x_{14}^{1}x_{17}^{2} + (3)x_{15}^{2}x_{21}^{1} + (6)x_{15}^{1}x_{16}^{1}x_{22}^{1} + (6)x_{15}^{1}x_{17}^{1}x_{23}^{1} + (3)x_{16}^{2}x_{28}^{1} + (6)x_{16}^{1}x_{17}^{1}x_{29}^{1} + (3)x_{17}^{2}x_{35}^{1} + x_{21}^{3} + (3)x_{21}^{1}x_{22}^{2} + (3)x_{21}^{1}x_{23}^{2} + (3)x_{22}^{2}x_{28}^{1} + (6)x_{22}^{1}x_{23}^{1}x_{29}^{1} + (3)x_{23}^{2}x_{35}^{1} + x_{28}^{3} + (3)x_{28}^{1}x_{29}^{2} + (3)x_{29}^{2}x_{35}^{1} + x_{35}^{3}$"
      ],
      "text/plain": [
       "<IPython.core.display.Latex object>"
      ]
     },
     "execution_count": 12,
     "metadata": {},
     "output_type": "execute_result"
    }
   ],
   "source": [
    "poly_6_quick.tex()"
   ]
  },
  {
   "cell_type": "code",
   "execution_count": 13,
   "id": "cfa744af",
   "metadata": {},
   "outputs": [
    {
     "data": {
      "text/plain": [
       "True"
      ]
     },
     "execution_count": 13,
     "metadata": {},
     "output_type": "execute_result"
    }
   ],
   "source": [
    "poly_4 == poly_4_quick"
   ]
  },
  {
   "cell_type": "code",
   "execution_count": null,
   "id": "f629b802",
   "metadata": {},
   "outputs": [],
   "source": []
  },
  {
   "cell_type": "code",
   "execution_count": null,
   "id": "c80e0c15",
   "metadata": {},
   "outputs": [],
   "source": []
  },
  {
   "cell_type": "code",
   "execution_count": null,
   "id": "5e92350b",
   "metadata": {},
   "outputs": [],
   "source": []
  }
 ],
 "metadata": {
  "kernelspec": {
   "display_name": "Python 3",
   "language": "python",
   "name": "python3"
  },
  "language_info": {
   "codemirror_mode": {
    "name": "ipython",
    "version": 3
   },
   "file_extension": ".py",
   "mimetype": "text/x-python",
   "name": "python",
   "nbconvert_exporter": "python",
   "pygments_lexer": "ipython3",
   "version": "3.8.5"
  }
 },
 "nbformat": 4,
 "nbformat_minor": 5
}
